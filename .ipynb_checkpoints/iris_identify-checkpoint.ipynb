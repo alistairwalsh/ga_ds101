{
 "cells": [
  {
   "cell_type": "markdown",
   "metadata": {},
   "source": [
    "## The scenario:\n",
    "\n",
    "You are a business intelligence manager at a fast moving startup that deals with flowers. Iris Mania is sweeping the world and certain species fetch upwards of 50,000 dollars AU for a single flower!\n",
    "\n",
    "A new iris has just been delivered. It’s species is not known and the resident florist is\n",
    "on holidays.\n",
    "\n",
    "The business has a sample data set with typical measures for the\n",
    "following three species for iris flower.\n",
    "\n",
    "Our mystery flower has the following characteristics: <br><br>\n",
    "Sepal length = 4.2 cm <br>\n",
    "Sepal width =  4.1 cm <br>\n",
    "Petal length = 1.3 cm <br>\n",
    "Petal width =  0.25 cm<br>\n",
    "\n",
    "\n",
    "Which species is it likely to be?"
   ]
  },
  {
   "cell_type": "code",
   "execution_count": null,
   "metadata": {},
   "outputs": [],
   "source": [
    "%pylab inline\n",
    "\n",
    "import pandas as pd\n",
    "import seaborn as sns"
   ]
  },
  {
   "cell_type": "code",
   "execution_count": null,
   "metadata": {},
   "outputs": [],
   "source": [
    "#Read in data, check for missing values\n",
    "df = pd.read_csv('./iris.csv')\n",
    "df.info()"
   ]
  },
  {
   "cell_type": "code",
   "execution_count": null,
   "metadata": {},
   "outputs": [],
   "source": [
    "#Check species names and number of species samples collected\n",
    "print(df['species'].unique())\n",
    "print(df['species'].value_counts())"
   ]
  },
  {
   "cell_type": "code",
   "execution_count": null,
   "metadata": {},
   "outputs": [],
   "source": [
    "#Explore average values of sepal + petal characteristics\n",
    "groups = df.groupby(by = ['species'])\n",
    "groups.mean()"
   ]
  },
  {
   "cell_type": "markdown",
   "metadata": {},
   "source": [
    "Sepal length = 4.2 cm <br>\n",
    "Sepal width =  4.1 cm <br>\n",
    "Petal length = 1.3 cm <br>\n",
    "Petal width =  0.25 cm<br>"
   ]
  },
  {
   "cell_type": "code",
   "execution_count": null,
   "metadata": {},
   "outputs": [],
   "source": [
    "#Frequeny plot of characteristics - First sepal length:\n",
    "ax, fig = plt.subplots(figsize = [7, 5])\n",
    "for species in df['species'].unique():\n",
    "    sns.distplot(df[df['species'] == species]['sepal_length'], hist = False, label = species);\n",
    "plt.legend();\n",
    "\n",
    "ymax = fig.get_ylim()[1]\n",
    "\n",
    "plt.vlines(x = 4.2, ymin = 0, ymax = ymax, linestyles = 'dashed', colors = 'k');\n",
    "\n",
    "print('Unknown species sepal length = 4.2 cm')"
   ]
  },
  {
   "cell_type": "code",
   "execution_count": null,
   "metadata": {},
   "outputs": [],
   "source": [
    "ax, fig = plt.subplots(figsize = [7,5])\n",
    "for species in df['species'].unique():\n",
    "    sns.distplot(df[df['species'] == species]['sepal_width'], hist = False, label = species)\n",
    "plt.legend();\n",
    "\n",
    "ymax = fig.get_ylim()[1]\n",
    "\n",
    "plt.vlines(x = 4.1, ymin = 0, ymax = ymax - 0.4, linestyles = 'dashed', colors = 'k');\n",
    "\n",
    "print('Unknown species sepal width = 4.1 cm')"
   ]
  },
  {
   "cell_type": "code",
   "execution_count": null,
   "metadata": {},
   "outputs": [],
   "source": [
    "ax, fig = plt.subplots(figsize = [7,5])\n",
    "for species in df['species'].unique():\n",
    "    sns.distplot(df[df['species'] == species]['petal_length'], hist = False, label = species)\n",
    "plt.legend();\n",
    "\n",
    "ymax = fig.get_ylim()[1]\n",
    "\n",
    "plt.vlines(x = 1.3, ymin = 0, ymax = ymax, linestyles = 'dashed', colors = 'k');\n",
    "\n",
    "print('Unknown species petal length = 1.3 cm')"
   ]
  },
  {
   "cell_type": "code",
   "execution_count": null,
   "metadata": {},
   "outputs": [],
   "source": [
    "ax, fig = plt.subplots(figsize = [7,5])\n",
    "for species in df['species'].unique():\n",
    "    sns.distplot(df[df['species'] == species]['petal_width'], hist = False, label = species)\n",
    "plt.legend();\n",
    "print('Unknown species petal width = 0.25 cm')\n",
    "\n",
    "ymax = fig.get_ylim()[1]\n",
    "\n",
    "plt.vlines(x = 0.25, ymin = 0, ymax = ymax, linestyles = 'dashed', colors = 'k');"
   ]
  },
  {
   "cell_type": "markdown",
   "metadata": {},
   "source": [
    "## Given our data, which species is the unknown iris likely to be?"
   ]
  }
 ],
 "metadata": {
  "kernelspec": {
   "display_name": "Python 2",
   "language": "python",
   "name": "python2"
  },
  "language_info": {
   "codemirror_mode": {
    "name": "ipython",
    "version": 2
   },
   "file_extension": ".py",
   "mimetype": "text/x-python",
   "name": "python",
   "nbconvert_exporter": "python",
   "pygments_lexer": "ipython2",
   "version": "2.7.13"
  }
 },
 "nbformat": 4,
 "nbformat_minor": 2
}
