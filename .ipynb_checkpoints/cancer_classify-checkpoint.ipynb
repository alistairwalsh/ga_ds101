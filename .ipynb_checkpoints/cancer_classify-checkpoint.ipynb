{
 "cells": [
  {
   "cell_type": "code",
   "execution_count": null,
   "metadata": {
    "collapsed": true
   },
   "outputs": [],
   "source": [
    "%matplotlib inline\n",
    "import numpy as np\n",
    "import pandas as pd\n",
    "from scipy import stats\n",
    "from sklearn import datasets, linear_model, model_selection, metrics, ensemble\n",
    "import matplotlib.pylab as plt\n",
    "import seaborn as sns"
   ]
  },
  {
   "cell_type": "code",
   "execution_count": null,
   "metadata": {
    "collapsed": true
   },
   "outputs": [],
   "source": [
    "#Load in data, create pandas dataframes, combine target and features.\n",
    "\n",
    "cancer_ds = datasets.load_breast_cancer()\n",
    "features = pd.DataFrame(data = cancer_ds.data, columns = cancer_ds.feature_names)\n",
    "target = pd.DataFrame(data = cancer_ds.target, columns = ['diagnosis'])\n",
    "df = pd.concat([target, features], axis = 1)"
   ]
  },
  {
   "cell_type": "code",
   "execution_count": null,
   "metadata": {},
   "outputs": [],
   "source": [
    "#Show column names\n",
    "df.columns.values"
   ]
  },
  {
   "cell_type": "code",
   "execution_count": null,
   "metadata": {},
   "outputs": [],
   "source": [
    "#Get information on data\n",
    "df.info()"
   ]
  },
  {
   "cell_type": "code",
   "execution_count": null,
   "metadata": {
    "collapsed": true
   },
   "outputs": [],
   "source": [
    "#Replace all spaces in column names with underscores\n",
    "df.columns = [x.replace(' ', '_') for x in df.columns]"
   ]
  },
  {
   "cell_type": "code",
   "execution_count": null,
   "metadata": {},
   "outputs": [],
   "source": [
    "#Plot correlations between all variables\n",
    "figure = plt.figure(figsize = [7, 7])\n",
    "ax = plt.imshow(df[df.columns[1:]].corr(), \n",
    "                vmin = -1.0, \n",
    "                vmax = 1.0, \n",
    "                interpolation = 'None', \n",
    "                cmap = 'RdYlBu_r')\n",
    "\n",
    "plt.xticks(np.arange(0, df.shape[1] - 1), df.columns[1:], rotation = 90);\n",
    "plt.yticks(np.arange(0, df.shape[1] - 1), df.columns[1:]);\n",
    "plt.colorbar();\n",
    "plt.grid();"
   ]
  },
  {
   "cell_type": "code",
   "execution_count": null,
   "metadata": {},
   "outputs": [],
   "source": [
    "#Divide data into training and testing data (80% / 20% split)\n",
    "train, test = model_selection.train_test_split(df, train_size = 0.8, random_state = 101)\n",
    "print('Training data shape = {}'.format(train.shape))\n",
    "print('Testing data shape = {}'.format(test.shape))"
   ]
  },
  {
   "cell_type": "code",
   "execution_count": null,
   "metadata": {
    "collapsed": true
   },
   "outputs": [],
   "source": [
    "#Training data\n",
    "y_train = train['diagnosis']\n",
    "x_train = train\n",
    "x_train = x_train.drop(labels = ['diagnosis'], axis = 1).apply(stats.zscore)"
   ]
  },
  {
   "cell_type": "code",
   "execution_count": null,
   "metadata": {
    "collapsed": true
   },
   "outputs": [],
   "source": [
    "#Testing data\n",
    "y_test = test['diagnosis']\n",
    "x_test = test\n",
    "x_test = x_test.drop(labels = ['diagnosis'], axis = 1).apply(stats.zscore)"
   ]
  },
  {
   "cell_type": "code",
   "execution_count": null,
   "metadata": {},
   "outputs": [],
   "source": [
    "#Run Random Forest to classify \n",
    "\n",
    "rf = ensemble.RandomForestClassifier()\n",
    "rf_model = rf.fit(x_train, y_train)\n",
    "y_hat = rf_model.predict(x_test)\n",
    "\n",
    "#Show model accuracy\n",
    "print(metrics.accuracy_score(y_test, y_hat))\n",
    "print(metrics.confusion_matrix(y_test, y_hat))\n",
    "\n",
    "#Plot coefficents\n",
    "plt.figure()\n",
    "ax = sns.barplot(x = np.arange(0, rf_model.feature_importances_.shape[0]), \n",
    "            y = rf_model.feature_importances_);\n",
    "plt.xticks(np.arange(0, rf_model.feature_importances_.shape[0]), \n",
    "           x_test.columns, \n",
    "           rotation = 90);"
   ]
  },
  {
   "cell_type": "code",
   "execution_count": null,
   "metadata": {},
   "outputs": [],
   "source": [
    "#Repeat with standard logistic regression \n",
    "log_reg = linear_model.LogisticRegression()\n",
    "log_model = log_reg.fit(x_train, y_train)\n",
    "y_hat = log_model.predict(x_test)\n",
    "log_model.class_weight\n",
    "\n",
    "#Show model scores\n",
    "print(metrics.accuracy_score(y_test, y_hat))\n",
    "print(metrics.confusion_matrix(y_test, y_hat))\n",
    "\n",
    "coef = log_model.coef_[0]\n",
    "\n",
    "#Plot coeffiencients\n",
    "plt.figure()\n",
    "ax = sns.barplot(x = np.arange(0, coef.shape[0]), \n",
    "                 y = coef);\n",
    "plt.xticks(np.arange(0, coef.shape[0]), \n",
    "           x_test.columns, \n",
    "           rotation = 90);"
   ]
  }
 ],
 "metadata": {
  "kernelspec": {
   "display_name": "Python 2",
   "language": "python",
   "name": "python2"
  },
  "language_info": {
   "codemirror_mode": {
    "name": "ipython",
    "version": 2
   },
   "file_extension": ".py",
   "mimetype": "text/x-python",
   "name": "python",
   "nbconvert_exporter": "python",
   "pygments_lexer": "ipython2",
   "version": "2.7.13"
  }
 },
 "nbformat": 4,
 "nbformat_minor": 2
}
