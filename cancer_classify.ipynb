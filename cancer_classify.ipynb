{
 "cells": [
  {
   "cell_type": "code",
   "execution_count": null,
   "metadata": {
    "collapsed": true
   },
   "outputs": [],
   "source": [
    "%matplotlib inline\n",
    "import numpy as np\n",
    "import pandas as pd\n",
    "from scipy import stats\n",
    "from sklearn import datasets, linear_model, model_selection, metrics, ensemble\n",
    "import matplotlib.pylab as plt\n",
    "import seaborn as sns\n",
    "import itertools"
   ]
  },
  {
   "cell_type": "code",
   "execution_count": null,
   "metadata": {
    "collapsed": true
   },
   "outputs": [],
   "source": [
    "#Load in data, create pandas dataframes, combine target and features.\n",
    "\n",
    "cancer_ds = datasets.load_breast_cancer()\n",
    "features = pd.DataFrame(data = cancer_ds.data, columns = cancer_ds.feature_names)\n",
    "target = pd.DataFrame(data = cancer_ds.target, columns = ['diagnosis'])\n",
    "df = pd.concat([target, features], axis = 1)"
   ]
  },
  {
   "cell_type": "code",
   "execution_count": null,
   "metadata": {},
   "outputs": [],
   "source": [
    "print(cancer_ds.DESCR)"
   ]
  },
  {
   "cell_type": "code",
   "execution_count": null,
   "metadata": {},
   "outputs": [],
   "source": [
    "df.diagnosis.value_counts()"
   ]
  },
  {
   "cell_type": "code",
   "execution_count": null,
   "metadata": {},
   "outputs": [],
   "source": [
    "#Show column names\n",
    "df.columns.values"
   ]
  },
  {
   "cell_type": "code",
   "execution_count": null,
   "metadata": {},
   "outputs": [],
   "source": [
    "#Get information on data\n",
    "df.info()"
   ]
  },
  {
   "cell_type": "code",
   "execution_count": null,
   "metadata": {
    "collapsed": true
   },
   "outputs": [],
   "source": [
    "#Replace all spaces in column names with underscores\n",
    "df.columns = [x.replace(' ', '_') for x in df.columns]"
   ]
  },
  {
   "cell_type": "code",
   "execution_count": null,
   "metadata": {},
   "outputs": [],
   "source": [
    "#Plot correlations between all variables\n",
    "figure = plt.figure(figsize = [7, 7])\n",
    "ax = plt.imshow(df[df.columns[1:]].corr(), \n",
    "                vmin = -1.0, \n",
    "                vmax = 1.0, \n",
    "                interpolation = 'None', \n",
    "                cmap = 'RdYlBu_r')\n",
    "\n",
    "plt.xticks(np.arange(0, df.shape[1] - 1), df.columns[1:], rotation = 90);\n",
    "plt.yticks(np.arange(0, df.shape[1] - 1), df.columns[1:]);\n",
    "plt.colorbar();\n",
    "plt.grid();"
   ]
  },
  {
   "cell_type": "code",
   "execution_count": null,
   "metadata": {
    "collapsed": true
   },
   "outputs": [],
   "source": [
    "X = df.iloc[:,1:]"
   ]
  },
  {
   "cell_type": "code",
   "execution_count": null,
   "metadata": {
    "collapsed": true
   },
   "outputs": [],
   "source": [
    "y = df['diagnosis']"
   ]
  },
  {
   "cell_type": "code",
   "execution_count": null,
   "metadata": {},
   "outputs": [],
   "source": [
    "X_train, X_test, y_train, y_test = model_selection.train_test_split(X, y, test_size=0.2, random_state=101)\n",
    "print('Training data shape = {}'.format(X_train.shape))\n",
    "print('Testing data shape = {}'.format(X_test.shape))\n",
    "print('Training label shape = {}'.format(y_train.shape))\n",
    "print('Testing label shape = {}'.format(y_test.shape))"
   ]
  },
  {
   "cell_type": "code",
   "execution_count": null,
   "metadata": {},
   "outputs": [],
   "source": [
    "#Run Random Forest to classify \n",
    "\n",
    "rf = ensemble.RandomForestClassifier(random_state = 101,n_estimators=200)\n",
    "rf_model = rf.fit(x_train, y_train)\n",
    "y_hat = rf_model.predict(x_test)\n",
    "\n",
    "#Show model accuracy\n",
    "print('Accuracy of the model is {}%'.format(np.round(metrics.accuracy_score(y_test, y_hat), decimals = 4) * 100))\n",
    "cm = metrics.confusion_matrix(y_test, y_hat)\n",
    "\n",
    "#Plot coefficents\n",
    "plt.figure()\n",
    "ax = sns.barplot(x = np.arange(0, rf_model.feature_importances_.shape[0]), \n",
    "            y = rf_model.feature_importances_);\n",
    "plt.xticks(np.arange(0, rf_model.feature_importances_.shape[0]), \n",
    "           x_test.columns, \n",
    "           rotation = 90);"
   ]
  },
  {
   "cell_type": "code",
   "execution_count": null,
   "metadata": {},
   "outputs": [],
   "source": [
    "#Plot confusion matrix \n",
    "cmap = plt.cm.Blues\n",
    "cm_stand = cm.astype('float') / cm.sum(axis = 1)[:, np.newaxis]\n",
    "cm_stand\n",
    "thresh = cm_stand.max() / 2\n",
    "\n",
    "plt.figure(figsize = [7, 7])\n",
    "plt.imshow(cm_stand, cmap = cmap)\n",
    "plt.grid()\n",
    "\n",
    "plt.xticks(np.arange(0, 2), ['', 'True Positive'], fontsize=14)\n",
    "plt.yticks(np.arange(0, 2), ['True Negative', ''], rotation = 90, fontsize=14)\n",
    "\n",
    "for i, j in itertools.product(range(cm_stand.shape[0]), range(cm_stand.shape[1])):\n",
    "    plt.text(j, i, format(cm_stand[i, j], '.2f'),\n",
    "             horizontalalignment = 'center',\n",
    "             color = 'white' if cm_stand[i, j] > thresh else 'black')"
   ]
  },
  {
   "cell_type": "code",
   "execution_count": null,
   "metadata": {},
   "outputs": [],
   "source": [
    "#Repeat with standard logistic regression \n",
    "log_reg = linear_model.LogisticRegression()\n",
    "log_model = log_reg.fit(x_train, y_train)\n",
    "y_hat = log_model.predict(x_test)\n",
    "\n",
    "#Show model scores\n",
    "print('Accuracy of the model is {}%'.format(np.round(metrics.accuracy_score(y_test, y_hat), decimals = 4) * 100))\n",
    "cm = metrics.confusion_matrix(y_test, y_hat)\n",
    "\n",
    "coef = log_model.coef_[0]\n",
    "\n",
    "#Plot coeffiencients\n",
    "plt.figure(figsize = [7, 7])\n",
    "ax = sns.barplot(x = np.arange(0, coef.shape[0]), \n",
    "                 y = coef);\n",
    "plt.xticks(np.arange(0, coef.shape[0]), \n",
    "           x_test.columns, \n",
    "           rotation = 90);"
   ]
  },
  {
   "cell_type": "code",
   "execution_count": null,
   "metadata": {},
   "outputs": [],
   "source": [
    "#Plot confusion matrix \n",
    "cmap = plt.cm.Blues\n",
    "cm_stand = cm.astype('float') / cm.sum(axis = 1)[:, np.newaxis]\n",
    "cm_stand\n",
    "thresh = cm_stand.max() / 2\n",
    "\n",
    "plt.figure(figsize = [7, 7])\n",
    "plt.imshow(cm_stand, cmap = cmap)\n",
    "plt.grid()\n",
    "\n",
    "plt.xticks(np.arange(0, 2), ['', 'True Positive'], fontsize=14)\n",
    "plt.yticks(np.arange(0, 2), ['True Negative', ''], rotation = 90, fontsize=14)\n",
    "\n",
    "for i, j in itertools.product(range(cm_stand.shape[0]), range(cm_stand.shape[1])):\n",
    "    plt.text(j, i, format(cm_stand[i, j], '.2f'),\n",
    "             horizontalalignment = \"center\",\n",
    "             color=\"white\" if cm_stand[i, j] > thresh else \"black\")"
   ]
  },
  {
   "cell_type": "code",
   "execution_count": null,
   "metadata": {},
   "outputs": [],
   "source": [
    "from sklearn.metrics import confusion_matrix\n",
    "\n",
    "class_names = ['Malignant','Benign']\n",
    "\n",
    "def plot_confusion_matrix(cm, classes,\n",
    "                          normalize=False,\n",
    "                          title='Confusion matrix',\n",
    "                          cmap=plt.cm.Blues):\n",
    "    \"\"\"\n",
    "    This function prints and plots the confusion matrix.\n",
    "    Normalization can be applied by setting `normalize=True`.\n",
    "    \"\"\"\n",
    "    if normalize:\n",
    "        cm = cm.astype('float') / cm.sum(axis=1)[:, np.newaxis]\n",
    "        print(\"Normalized confusion matrix\")\n",
    "    else:\n",
    "        print('Confusion matrix, without normalization')\n",
    "\n",
    "    print(cm)\n",
    "\n",
    "    plt.imshow(cm, interpolation='nearest', cmap=cmap)\n",
    "    plt.title(title)\n",
    "    plt.colorbar()\n",
    "    tick_marks = np.arange(len(classes))\n",
    "    plt.xticks(tick_marks, classes, rotation=45)\n",
    "    plt.yticks(tick_marks, classes)\n",
    "\n",
    "    fmt = '.2f' if normalize else 'd'\n",
    "    thresh = cm.max() / 2.\n",
    "    for i, j in itertools.product(range(cm.shape[0]), range(cm.shape[1])):\n",
    "        plt.text(j, i, format(cm[i, j], fmt),\n",
    "                 horizontalalignment=\"center\",\n",
    "                 color=\"white\" if cm[i, j] > thresh else \"black\")\n",
    "\n",
    "    plt.ylabel('True label')\n",
    "    plt.xlabel('Predicted label')\n",
    "    plt.tight_layout()\n",
    "\n",
    "# Compute confusion matrix\n",
    "cnf_matrix = confusion_matrix(y_test, y_hat)\n",
    "np.set_printoptions(precision=2)\n",
    "\n",
    "# Plot normalized confusion matrix\n",
    "plt.figure()\n",
    "plot_confusion_matrix(cnf_matrix, classes=class_names, normalize=True,\n",
    "                      title='Normalized confusion matrix')\n",
    "\n",
    "plt.show()\n"
   ]
  },
  {
   "cell_type": "code",
   "execution_count": null,
   "metadata": {
    "collapsed": true
   },
   "outputs": [],
   "source": []
  }
 ],
 "metadata": {
  "kernelspec": {
   "display_name": "Python 2",
   "language": "python",
   "name": "python2"
  },
  "language_info": {
   "codemirror_mode": {
    "name": "ipython",
    "version": 2
   },
   "file_extension": ".py",
   "mimetype": "text/x-python",
   "name": "python",
   "nbconvert_exporter": "python",
   "pygments_lexer": "ipython2",
   "version": "2.7.13"
  }
 },
 "nbformat": 4,
 "nbformat_minor": 2
}
