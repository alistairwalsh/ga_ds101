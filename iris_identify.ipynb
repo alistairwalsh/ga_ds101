{
 "cells": [
  {
   "cell_type": "markdown",
   "metadata": {},
   "source": [
    "## The scenario:\n",
    "\n",
    "You are a business intelligence manager at a fast moving startup that deals with flowers. Iris Mania is sweeping the world and certain species fetch upwards of 50,000 dollars AU for a single flower!\n",
    "\n",
    "A new iris has just been delivered. It’s species is not known and the resident florist is\n",
    "on holidays.\n",
    "\n",
    "The business has a sample data set with typical measures for the\n",
    "following three species for iris flower.\n",
    "\n",
    "Our mystery flower has the following characteristics: <br><br>\n",
    "Sepal length = 4.2 cm <br>\n",
    "Sepal width =  4.1 cm <br>\n",
    "Petal length = 1.3 cm <br>\n",
    "Petal width =  0.25 cm<br>\n",
    "\n",
    "\n",
    "Which species is it likely to be?"
   ]
  },
  {
   "cell_type": "code",
   "execution_count": null,
   "metadata": {},
   "outputs": [],
   "source": [
    "%pylab inline\n",
    "\n",
    "import pandas as pd\n",
    "import seaborn as sns"
   ]
  },
  {
   "cell_type": "code",
   "execution_count": null,
   "metadata": {},
   "outputs": [],
   "source": [
    "#Read in data, check for missing values\n",
    "df = pd.read_csv('./iris.csv')\n",
    "df.info()"
   ]
  },
  {
   "cell_type": "code",
   "execution_count": null,
   "metadata": {},
   "outputs": [],
   "source": [
    "#Check species names and number of species samples collected\n",
    "print(df['species'].unique())\n",
    "print(df['species'].value_counts())"
   ]
  },
  {
   "cell_type": "code",
   "execution_count": null,
   "metadata": {},
   "outputs": [],
   "source": [
    "#Explore average values of sepal + petal characteristics\n",
    "groups = df.groupby(by = ['species'])\n",
    "groups.mean()"
   ]
  },
  {
   "cell_type": "markdown",
   "metadata": {},
   "source": [
    "Sepal length = 4.2 cm <br>\n",
    "Sepal width =  4.1 cm <br>\n",
    "Petal length = 1.3 cm <br>\n",
    "Petal width =  0.25 cm<br>"
   ]
  },
  {
   "cell_type": "markdown",
   "metadata": {},
   "source": [
    "### Lets use the first iris as our unidentified flower"
   ]
  },
  {
   "cell_type": "code",
   "execution_count": null,
   "metadata": {
    "collapsed": true
   },
   "outputs": [],
   "source": [
    "s_length, s_width, p_length, p_width, v = df.loc[0]"
   ]
  },
  {
   "cell_type": "code",
   "execution_count": null,
   "metadata": {},
   "outputs": [],
   "source": [
    "print('s_length',s_length)\n",
    "print('s_width',s_width)\n",
    "print('p_length', p_length)\n",
    "print('p_width',p_width)\n",
    "print('variety', v)"
   ]
  },
  {
   "cell_type": "code",
   "execution_count": null,
   "metadata": {},
   "outputs": [],
   "source": [
    "#Frequeny plot of characteristics - First sepal length:\n",
    "ax, fig = plt.subplots(figsize = [7, 5])\n",
    "for species in df['species'].unique():\n",
    "    sns.distplot(df[df['species'] == species]['sepal_length'], hist = False, label = species);\n",
    "plt.legend();\n",
    "\n",
    "ymax = fig.get_ylim()[1]\n",
    "\n",
    "plt.vlines(x = s_length, ymin = 0, ymax = ymax, linestyles = 'dashed', colors = 'k');\n",
    "\n",
    "print('Unknown species sepal length = {} cm'.format(s_length))"
   ]
  },
  {
   "cell_type": "code",
   "execution_count": null,
   "metadata": {},
   "outputs": [],
   "source": [
    "ax, fig = plt.subplots(figsize = [7,5])\n",
    "for species in df['species'].unique():\n",
    "    sns.distplot(df[df['species'] == species]['sepal_width'], hist = False, label = species)\n",
    "plt.legend()\n",
    "\n",
    "ymax = fig.get_ylim()[1]\n",
    "\n",
    "plt.vlines(x = s_width, ymin = 0, ymax = ymax , linestyles = 'dashed', colors = 'k');\n",
    "\n",
    "print('Unknown species sepal width = {} cm'.format(s_width))"
   ]
  },
  {
   "cell_type": "code",
   "execution_count": null,
   "metadata": {},
   "outputs": [],
   "source": [
    "ax, fig = plt.subplots(figsize = [7,5])\n",
    "for species in df['species'].unique():\n",
    "    sns.distplot(df[df['species'] == species]['petal_length'], hist = False, label = species)\n",
    "plt.legend();\n",
    "\n",
    "ymax = fig.get_ylim()[1]\n",
    "\n",
    "plt.vlines(x = p_length, ymin = 0, ymax = ymax, linestyles = 'dashed', colors = 'k');\n",
    "\n",
    "print('Unknown species petal length = {} cm'.format(p_length))"
   ]
  },
  {
   "cell_type": "code",
   "execution_count": null,
   "metadata": {},
   "outputs": [],
   "source": [
    "ax, fig = plt.subplots(figsize = [7,5])\n",
    "for species in df['species'].unique():\n",
    "    sns.distplot(df[df['species'] == species]['petal_width'], hist = False, label = species)\n",
    "plt.legend()\n",
    "\n",
    "ymax = fig.get_ylim()[1]\n",
    "\n",
    "plt.vlines(x = p_width, ymin = 0, ymax = ymax, linestyles = 'dashed', colors = 'k');\n",
    "\n",
    "print('Unknown species petal width = {} cm'.format(p_width))"
   ]
  },
  {
   "cell_type": "markdown",
   "metadata": {},
   "source": [
    "## Given our data, which species is the unknown iris likely to be?"
   ]
  },
  {
   "cell_type": "code",
   "execution_count": null,
   "metadata": {},
   "outputs": [],
   "source": [
    "df.loc[0]"
   ]
  },
  {
   "cell_type": "code",
   "execution_count": null,
   "metadata": {
    "collapsed": true
   },
   "outputs": [],
   "source": [
    "# y is the targets\n",
    "unknown_X = df.iloc[0,:-1]\n",
    "unknown_y = df.iloc[0,-1]\n",
    "X = df.iloc[1:,:-1]\n",
    "y = df.iloc[1:,-1]"
   ]
  },
  {
   "cell_type": "code",
   "execution_count": null,
   "metadata": {},
   "outputs": [],
   "source": [
    "unknown_X"
   ]
  },
  {
   "cell_type": "code",
   "execution_count": null,
   "metadata": {},
   "outputs": [],
   "source": [
    "from sklearn.neighbors import KNeighborsClassifier\n",
    "knn = KNeighborsClassifier()\n",
    "knn.fit(X, y) \n",
    "KNeighborsClassifier(algorithm='auto', leaf_size=30, metric='minkowski',\n",
    "           metric_params=None, n_jobs=None, n_neighbors=5, p=2,\n",
    "           weights='uniform')\n"
   ]
  },
  {
   "cell_type": "code",
   "execution_count": null,
   "metadata": {},
   "outputs": [],
   "source": [
    "knn.predict(unknown_X.values.reshape(1,-1))"
   ]
  }
 ],
 "metadata": {
  "kernelspec": {
   "display_name": "Python 3",
   "language": "python",
   "name": "python3"
  },
  "language_info": {
   "codemirror_mode": {
    "name": "ipython",
    "version": 3
   },
   "file_extension": ".py",
   "mimetype": "text/x-python",
   "name": "python",
   "nbconvert_exporter": "python",
   "pygments_lexer": "ipython3",
   "version": "3.6.2"
  }
 },
 "nbformat": 4,
 "nbformat_minor": 2
}
